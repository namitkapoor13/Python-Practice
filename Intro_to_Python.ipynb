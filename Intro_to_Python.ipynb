{
  "nbformat": 4,
  "nbformat_minor": 0,
  "metadata": {
    "colab": {
      "name": "Intro to Python.ipynb",
      "version": "0.3.2",
      "provenance": [],
      "collapsed_sections": []
    }
  },
  "cells": [
    {
      "cell_type": "markdown",
      "metadata": {
        "id": "view-in-github",
        "colab_type": "text"
      },
      "source": [
        "[View in Colaboratory](https://colab.research.google.com/github/namitkapoor13/Python-Practice/blob/master/Intro_to_Python.ipynb)"
      ]
    },
    {
      "metadata": {
        "id": "r3fXFthig6At",
        "colab_type": "code",
        "colab": {
          "base_uri": "https://localhost:8080/",
          "height": 34
        },
        "outputId": "426f0c02-15b6-4c92-cb8e-d94327d50e75"
      },
      "cell_type": "code",
      "source": [
        "print (4+5)"
      ],
      "execution_count": 0,
      "outputs": [
        {
          "output_type": "stream",
          "text": [
            "9\n"
          ],
          "name": "stdout"
        }
      ]
    },
    {
      "metadata": {
        "id": "6TF7icT7hEFy",
        "colab_type": "code",
        "colab": {
          "base_uri": "https://localhost:8080/",
          "height": 51
        },
        "outputId": "502a13d3-e8bd-4832-9cd8-e942260418b7"
      },
      "cell_type": "code",
      "source": [
        "height = 1.78\n",
        "weight = 64\n",
        "bmi = weight / (height **2)\n",
        "print (bmi)\n",
        "type (height)"
      ],
      "execution_count": 0,
      "outputs": [
        {
          "output_type": "stream",
          "text": [
            "20.1994697639\n"
          ],
          "name": "stdout"
        },
        {
          "output_type": "execute_result",
          "data": {
            "text/plain": [
              "float"
            ]
          },
          "metadata": {
            "tags": []
          },
          "execution_count": 6
        }
      ]
    },
    {
      "metadata": {
        "id": "TOFGKBhLjGcr",
        "colab_type": "code",
        "colab": {
          "base_uri": "https://localhost:8080/",
          "height": 34
        },
        "outputId": "4e956f67-9292-4f5f-a9d0-e63041aae3dd"
      },
      "cell_type": "code",
      "source": [
        "x= 'I love'\n",
        "y= ' Pizza'\n",
        "print (x+y)"
      ],
      "execution_count": 0,
      "outputs": [
        {
          "output_type": "stream",
          "text": [
            "I love Pizza\n"
          ],
          "name": "stdout"
        }
      ]
    },
    {
      "metadata": {
        "id": "zSYd6FeEjWGA",
        "colab_type": "code",
        "colab": {
          "base_uri": "https://localhost:8080/",
          "height": 34
        },
        "outputId": "2c62cef0-ce39-47e7-bf11-c7b7b12f66f5"
      },
      "cell_type": "code",
      "source": [
        "x = 5.5\n",
        "b= 1\n",
        "y = x+b\n",
        "z = True\n",
        "a= False\n",
        "type(y)\n",
        "print(a+z)\n",
        "aa=False\n"
      ],
      "execution_count": 0,
      "outputs": [
        {
          "output_type": "stream",
          "text": [
            "1\n"
          ],
          "name": "stdout"
        }
      ]
    },
    {
      "metadata": {
        "id": "Rbtlrv-Dt8pK",
        "colab_type": "code",
        "colab": {
          "base_uri": "https://localhost:8080/",
          "height": 68
        },
        "outputId": "7528ede7-1d3d-48cd-99ff-bd6f02367e76"
      },
      "cell_type": "code",
      "source": [
        "# Several variables to experiment with\n",
        "savings = 100\n",
        "factor = 1.1\n",
        "desc = \"compound interest\"\n",
        "\n",
        "# Assign product of factor and savings to year1\n",
        "\n",
        "year1 = (savings * factor)\n",
        "# Print the type of year1\n",
        "type(year1) #no output?\n",
        "\n",
        "# Assign sum of desc and desc to doubledesc\n",
        "doubledesc= desc + desc\n",
        "\n",
        "# Print out doubledesc\n",
        "print(type(year1))\n",
        "print(doubledesc)\n",
        "type(year1)\n",
        "\n"
      ],
      "execution_count": 0,
      "outputs": [
        {
          "output_type": "stream",
          "text": [
            "<type 'float'>\n",
            "compound interestcompound interest\n"
          ],
          "name": "stdout"
        },
        {
          "output_type": "execute_result",
          "data": {
            "text/plain": [
              "float"
            ]
          },
          "metadata": {
            "tags": []
          },
          "execution_count": 47
        }
      ]
    },
    {
      "metadata": {
        "id": "BASjVDLixIf8",
        "colab_type": "code",
        "colab": {
          "base_uri": "https://localhost:8080/",
          "height": 34
        },
        "outputId": "ff065dbb-7cf8-4a76-fd04-b203883e68f7"
      },
      "cell_type": "code",
      "source": [
        "# Definition of savings and result\n",
        "savings = 100\n",
        "result = 100 * 1.10 ** 7\n",
        "\n",
        "# Fix the printout\n",
        "print(\"I started with $\" + str(savings) + \" and now have $\" + str(result) + \". Awesome!\") #cannot concatenate strings and float(other data types together), we have to convert it into str. Str(variable). Like this it is int(),float(),bool()\n",
        "\n",
        "# Definition of pi_string\n",
        "pi_string = \"3.1415926\"\n",
        "\n",
        "# Convert pi_string into float: pi_float\n",
        "pi_float=float(pi_string)"
      ],
      "execution_count": 0,
      "outputs": [
        {
          "output_type": "stream",
          "text": [
            "I started with $100 and now have $194.87171. Awesome!\n"
          ],
          "name": "stdout"
        }
      ]
    },
    {
      "metadata": {
        "id": "eAvJhiz4ygk0",
        "colab_type": "code",
        "colab": {
          "base_uri": "https://localhost:8080/",
          "height": 34
        },
        "outputId": "0cb7b5e8-c265-4a0e-955a-c6ac7a7867c0"
      },
      "cell_type": "code",
      "source": [
        "print('Hey'+('Hey')*2+'Good')"
      ],
      "execution_count": 0,
      "outputs": [
        {
          "output_type": "stream",
          "text": [
            "HeyHeyHeyGood\n"
          ],
          "name": "stdout"
        }
      ]
    },
    {
      "metadata": {
        "id": "njh2ueVizESU",
        "colab_type": "code",
        "colab": {
          "base_uri": "https://localhost:8080/",
          "height": 51
        },
        "outputId": "3dc040b9-634a-4be3-d196-c1bae73fa900"
      },
      "cell_type": "code",
      "source": [
        "#List Example. Its inconvinient to create multiple variable of again and again. Hence, LISTS!!!\n",
        "#Collection of  values. and can contain any data type\n",
        "\n",
        "list1 = ['mom',111.2,'dad',111.5]\n",
        "\n",
        "\n",
        "#can contain list itself\n",
        "#list is also a data-type\n",
        "list2 =['son',123.3,'daughter','1234.5']\n",
        "list3=[list1,list2]\n",
        "print(list3)\n",
        "type(list3)\n",
        "\n",
        "list4 = [1+2,'a'*2,3]\n",
        "print(list4)"
      ],
      "execution_count": 0,
      "outputs": [
        {
          "output_type": "stream",
          "text": [
            "[['mom', 111.2, 'dad', 111.5], ['son', 123.3, 'daughter', '1234.5']]\n",
            "[3, 'aa', 3]\n"
          ],
          "name": "stdout"
        }
      ]
    },
    {
      "metadata": {
        "id": "DAWYgGxdb3Lb",
        "colab_type": "code",
        "colab": {
          "base_uri": "https://localhost:8080/",
          "height": 51
        },
        "outputId": "2b9f7e9c-1fa2-4873-cabf-286607c15b81"
      },
      "cell_type": "code",
      "source": [
        "#subsetting lists\n",
        "list1 = ['mom',111.2,'dad',111.5,'son',123.3,'daughter',1234.5]\n",
        "#index based search starting from 0 to n. Negative index based search is used to get end of list. -1 represents last element.\n",
        "print(list1[0]) #will return mom\n",
        "print(list1[-1])#will return 1234.5"
      ],
      "execution_count": 0,
      "outputs": [
        {
          "output_type": "stream",
          "text": [
            "mom\n",
            "1234.5\n"
          ],
          "name": "stdout"
        }
      ]
    },
    {
      "metadata": {
        "id": "68xM30i8c0ni",
        "colab_type": "code",
        "colab": {
          "base_uri": "https://localhost:8080/",
          "height": 85
        },
        "outputId": "fdd4f2b9-692c-458c-978c-fa322f592c96"
      },
      "cell_type": "code",
      "source": [
        "#list slicing. Selecting range within list. Syntax : listname[start:end]. It will return records from start index to (end-1) index\n",
        "list1 = ['mom',111.2,'dad',111.5,'son',123.3,'daughter',1234.5]\n",
        "list2 = list1[3:5]\n",
        "print(list2)\n",
        "print(list1[:4]) #if start is not specified, It will begin from 0 index\n",
        "print(list1[1:]) #if end is not specified, it will stop at end of list\n",
        "sum1=list1[1] + list2[0] #operator use on list elements\n",
        "print(sum1)"
      ],
      "execution_count": 0,
      "outputs": [
        {
          "output_type": "stream",
          "text": [
            "[111.5, 'son']\n",
            "['mom', 111.2, 'dad', 111.5]\n",
            "[111.2, 'dad', 111.5, 'son', 123.3, 'daughter', 1234.5]\n",
            "222.7\n"
          ],
          "name": "stdout"
        }
      ]
    },
    {
      "metadata": {
        "id": "ASaNSM0ohKjA",
        "colab_type": "code",
        "colab": {
          "base_uri": "https://localhost:8080/",
          "height": 51
        },
        "outputId": "94e5f14e-3e7e-4a13-c81f-b2bfacba13d5"
      },
      "cell_type": "code",
      "source": [
        "list1 =[['mom',111.2,'dad',111.5],['son',123.3,'daughter','1234.5'],['son',123.3,'daughter',1234.5]] #list of lists\n",
        "x= list1[1][1:] #using zero based indexing it looks for 1 position and then, select the value from 1:till end.\n",
        "print(x)\n",
        "y=list1[0][1]+list1[2][-1] #operator use on basis of index value\n",
        "print(y)"
      ],
      "execution_count": 0,
      "outputs": [
        {
          "output_type": "stream",
          "text": [
            "[123.3, 'daughter', '1234.5']\n",
            "1345.7\n"
          ],
          "name": "stdout"
        }
      ]
    },
    {
      "metadata": {
        "id": "PsdtX0UD0UQa",
        "colab_type": "code",
        "colab": {
          "base_uri": "https://localhost:8080/",
          "height": 51
        },
        "outputId": "f47649f7-5aeb-42b8-9d16-6e9ddcc4ae98"
      },
      "cell_type": "code",
      "source": [
        "#list manipulation\n",
        "list1 = ['mom',111.2,'dad',111.5,'son',123.3,'daughter',1234.5]\n",
        "#changing values of list\n",
        "list1[-1]=123.45\n",
        "print(list1)\n",
        "list1[2:4]=['papa',111.45]\n",
        "print(list1)"
      ],
      "execution_count": 0,
      "outputs": [
        {
          "output_type": "stream",
          "text": [
            "['mom', 111.2, 'dad', 111.5, 'son', 123.3, 'daughter', 123.45]\n",
            "['mom', 111.2, 'papa', 111.45, 'son', 123.3, 'daughter', 123.45]\n"
          ],
          "name": "stdout"
        }
      ]
    },
    {
      "metadata": {
        "id": "WdeRyBq11MZw",
        "colab_type": "code",
        "colab": {
          "base_uri": "https://localhost:8080/",
          "height": 51
        },
        "outputId": "6a605093-d83c-414e-91ee-7487465c1f8c"
      },
      "cell_type": "code",
      "source": [
        "#adding or removing list elements\n",
        "list1 = ['mom',111.2,'dad',111.5,'son',123.3,'daughter',1234.5]\n",
        "list_add = list1 + ['son2',22.5]\n",
        "print(list_ext)\n",
        "del(list1[:2])\n",
        "print(list1)"
      ],
      "execution_count": 0,
      "outputs": [
        {
          "output_type": "stream",
          "text": [
            "['mom', 111.2, 'dad', 111.5, 'son', 123.3, 'daughter', 1234.5, 'son2', 22.5]\n",
            "['dad', 111.5, 'son', 123.3, 'daughter', 1234.5]\n"
          ],
          "name": "stdout"
        }
      ]
    },
    {
      "metadata": {
        "id": "Zmw4sqAr2-U3",
        "colab_type": "code",
        "colab": {
          "base_uri": "https://localhost:8080/",
          "height": 102
        },
        "outputId": "e527bea1-f47b-46ad-ed2f-8feb8db1d925"
      },
      "cell_type": "code",
      "source": [
        "#copying a list.\n",
        "list1 = ['mom',111.2,'dad',111.5,'son',123.3,'daughter',1234.5]\n",
        "x = list1 \n",
        "x[0]='mother'\n",
        "print(x)\n",
        "print(list1) #we have assigned a variable x to earlier created list1. \n",
        "#so whatever changes in x, it will also change for list1. since both are referencing the same objects.\n",
        "#to copy a list, we have to use list(listname) or listname[:]\n",
        "list2 = ['mom',111.2,'dad',111.5,'son',123.3,'daughter',1234.5]\n",
        "y = list(list2)\n",
        "z = list2[:]\n",
        "# if we make changes to y. then list1 is not affected.\n",
        "y[0]='mother'\n",
        "print(y)\n",
        "print(z)\n",
        "print(list2)"
      ],
      "execution_count": 0,
      "outputs": [
        {
          "output_type": "stream",
          "text": [
            "['mother', 111.2, 'dad', 111.5, 'son', 123.3, 'daughter', 1234.5]\n",
            "['mother', 111.2, 'dad', 111.5, 'son', 123.3, 'daughter', 1234.5]\n",
            "['mother', 111.2, 'dad', 111.5, 'son', 123.3, 'daughter', 1234.5]\n",
            "['mom', 111.2, 'dad', 111.5, 'son', 123.3, 'daughter', 1234.5]\n",
            "['mom', 111.2, 'dad', 111.5, 'son', 123.3, 'daughter', 1234.5]\n"
          ],
          "name": "stdout"
        }
      ]
    },
    {
      "metadata": {
        "id": "B7RGhDnPfALS",
        "colab_type": "code",
        "colab": {
          "base_uri": "https://localhost:8080/",
          "height": 119
        },
        "outputId": "0602e255-4cd7-4c71-da08-d34d912350af"
      },
      "cell_type": "code",
      "source": [
        "#functions #max() #round(number,[n digits]) where n is optional #int()bool()float() #type() and etc etc\n",
        "\n",
        "p=round(1.9345678)\n",
        "print(p)\n",
        "x=round(1.9345001,4)\n",
        "print(x)\n",
        "\n",
        "#to get to know more about function we use : help(function_name) eg... : help(len)\n",
        "y=complex(4,3)\n",
        "print(y)\n",
        "\n",
        "list1 = ['mom',111.2,'dad',111.5]\n",
        "\n",
        "list2 = ['son',123.3,'daughter','1234.5']\n",
        "list3= list1+list2\n",
        "print(list3)\n",
        "sort_asc = sorted(list3, reverse = False)\n",
        "print(sort_asc)\n",
        "sort_desc = sorted(list3, reverse = True)\n",
        "print(sort_desc)"
      ],
      "execution_count": 0,
      "outputs": [
        {
          "output_type": "stream",
          "text": [
            "2.0\n",
            "1.9345\n",
            "(4+3j)\n",
            "['mom', 111.2, 'dad', 111.5, 'son', 123.3, 'daughter', '1234.5']\n",
            "[111.2, 111.5, 123.3, '1234.5', 'dad', 'daughter', 'mom', 'son']\n",
            "['son', 'mom', 'daughter', 'dad', '1234.5', 123.3, 111.5, 111.2]\n"
          ],
          "name": "stdout"
        }
      ]
    },
    {
      "metadata": {
        "id": "U_LSWyD_kIf8",
        "colab_type": "code",
        "colab": {
          "base_uri": "https://localhost:8080/",
          "height": 102
        },
        "outputId": "d26198db-1d27-4d86-91ae-4e28e743e2ad"
      },
      "cell_type": "code",
      "source": [
        "#methods : Functions on Python 'Objects'. Python objects are variabe of different type. List.\n",
        "#eg: object of type str has methods like capitalize(), replace()\n",
        "# float : bit_length() , conjugate()\n",
        "#list : index(), count()\n",
        "#syntax of method : object_name.method(parameters)\n",
        "\n",
        "list1 = ['mom',111.2,'dad',111.5]\n",
        "\n",
        "print(list1.index('mom')) #index position\n",
        "print(list1.count('mom')) #count the number of occurence of parameter\n",
        "\n",
        "y='sister'\n",
        "print(y.capitalize()) #first letter capitalize\n",
        "print(y.replace('s','T')) #replace 's' with 'T' all occurances of s.\n",
        "\n",
        "list1.append('daughter')\n",
        "print(list1)"
      ],
      "execution_count": 0,
      "outputs": [
        {
          "output_type": "stream",
          "text": [
            "0\n",
            "1\n",
            "Sister\n",
            "TiTter\n",
            "['mom', 111.2, 'dad', 111.5, 'daughter']\n"
          ],
          "name": "stdout"
        }
      ]
    },
    {
      "metadata": {
        "id": "-mpRAcNArgX6",
        "colab_type": "code",
        "colab": {
          "base_uri": "https://localhost:8080/",
          "height": 85
        },
        "outputId": "bc12f437-f59c-4219-ea5f-038ab046d0e3"
      },
      "cell_type": "code",
      "source": [
        "#packages : directory of python script. Pre-written scripts that we can use and utilize what all functions and methods it contains. \n",
        "#Each script in a package is a module\n",
        "#not available by default. need to download from web and import them\n",
        "# to install package we have to use pip: package maintainence system in python\n",
        "#download get-pip.py\n",
        "# go to http://pip.readthedocs.io/en/stable/installing/ . Download pip\n",
        "# go to terminal and type : python get-pip.py\n",
        "# install 'abc' package syntax : pip install abc\n",
        "# to use 'abcdef' in our script, we have to import it first using: import abcdef\n",
        "# to use a function count() in abc package we do : abc.count(parameter)\n",
        "# we can give alias to package: import abcdef as a\n",
        "                              # a.count(parameter)\n",
        "  \n",
        "# to import a specific function from a package we do : from package_name import function_name\n",
        "#to import a function in subpackage of a package , then we do : from package_name.subpackage_name import function_name\n",
        "import numpy  as np #numeric python package\n",
        "list1=[1.23,2.34,3.45]\n",
        "list2=[1.23,2.34,3.45] \n",
        "#calculations on list element is not possible. So we use numpy's function array()\n",
        "length=np.array(list1) #converting lists in numpy array and storing it in a variable\n",
        "breadth=np.array(list2)\n",
        "area = length*breadth\n",
        "area\n",
        "#Numpy array can contain data of only one type\n",
        "c=np.array([1,'sam',True]) #since this array contain multiple data type. when we run this code it will create all of them to str. THIS IS CALLED TYPE COERCION\n",
        "print(c)\n",
        "d=c+c\n",
        "print(d)\n",
        "list3= [1,2,3]\n",
        "x=list3+list3 #list behavior of addition is different to np.array addition\n",
        "print(x)\n",
        "y=np.array([1,2,3])\n",
        "z= y+y # hence, different types : different behavior\n",
        "z"
      ],
      "execution_count": 0,
      "outputs": [
        {
          "output_type": "stream",
          "text": [
            "[1 2 1]\n",
            "[2 4 2]\n",
            "[1, 2, 3, 1, 2, 3]\n"
          ],
          "name": "stdout"
        },
        {
          "output_type": "execute_result",
          "data": {
            "text/plain": [
              "array([2, 4, 6])"
            ]
          },
          "metadata": {
            "tags": []
          },
          "execution_count": 54
        }
      ]
    },
    {
      "metadata": {
        "id": "dYQqxU4jKcNp",
        "colab_type": "code",
        "colab": {
          "base_uri": "https://localhost:8080/",
          "height": 34
        },
        "outputId": "f0d8fc1e-1882-4892-96a6-1cd4d7a5062b"
      },
      "cell_type": "code",
      "source": [
        "#numpy\n",
        "\n",
        "x= np.array([1.1,2.1,3.1,4.1,5.1])\n",
        "y=x[1]\n",
        "y #will give value at index 1\n",
        "\n",
        "\n",
        "#we can also use the result of an operation in an array to get further results. For Example:\n",
        "z=np.array(y)\n",
        "z #this will create an array based on the consisting value of y\n",
        "\n",
        "#another example\n",
        "\n",
        "a=np.array([2,4,6,5,7,8,4,3,2,45,43,0])\n",
        "a>7 #this will create a boolean array listing true or false where a>7 is satisfied or not respectively.\n",
        "b=a[a>7] #we can create a new array based on output of previous expression\n",
        "b #THIS IS CALLED SUBSETTING. NUMPY SUBSETTING"
      ],
      "execution_count": 0,
      "outputs": [
        {
          "output_type": "execute_result",
          "data": {
            "text/plain": [
              "array([ 8, 45, 43])"
            ]
          },
          "metadata": {
            "tags": []
          },
          "execution_count": 46
        }
      ]
    },
    {
      "metadata": {
        "id": "H8oT7NQuOUEf",
        "colab_type": "code",
        "colab": {
          "base_uri": "https://localhost:8080/",
          "height": 68
        },
        "outputId": "d422f035-61bc-4ba3-f185-3a77c2002d7f"
      },
      "cell_type": "code",
      "source": [
        "#numpy contd.\n",
        "\n",
        "height = [70,71,72,73,74]\n",
        "weight = [50,60,70,80,90]\n",
        "hgt_arr= np.array(height) * 0.0254\n",
        "wgt_arr = np.array(weight) * 0.453592\n",
        "bmi = wgt_arr / (hgt_arr**2)\n",
        "print(bmi)\n",
        "\n",
        "light_people = bmi < 9.40\n",
        "print(light_people) #bool array based on above equation\n",
        "light_people_bmi = bmi[light_people] #subsetting array based on condition\n",
        "print(light_people_bmi) "
      ],
      "execution_count": 0,
      "outputs": [
        {
          "output_type": "stream",
          "text": [
            "[ 7.17417353  8.36820876  9.49360155 10.55461071 11.55518819]\n",
            "[ True  True False False False]\n",
            "[7.17417353 8.36820876]\n"
          ],
          "name": "stdout"
        }
      ]
    },
    {
      "metadata": {
        "id": "UEbmmA54RkXX",
        "colab_type": "code",
        "colab": {
          "base_uri": "https://localhost:8080/",
          "height": 34
        },
        "outputId": "950dfc01-ec5f-476f-fdf8-a5898c4080a9"
      },
      "cell_type": "code",
      "source": [
        "#numpy contd.\n",
        "\n",
        "height = [70,71,72,73,74]\n",
        "weight = [50,60,70,80,90]\n",
        "hgt_arr= np.array(height) \n",
        "wgt_arr = np.array(weight) \n",
        "\n",
        "# Print out sub-array of hgt_arr from index 1 up to and including index 3\n",
        "print(hgt_arr[1:4])"
      ],
      "execution_count": 0,
      "outputs": [
        {
          "output_type": "stream",
          "text": [
            "[71 72 73]\n"
          ],
          "name": "stdout"
        }
      ]
    },
    {
      "metadata": {
        "id": "H-_p07ojSafd",
        "colab_type": "code",
        "colab": {
          "base_uri": "https://localhost:8080/",
          "height": 187
        },
        "outputId": "82f8278e-7d3a-4bac-f3f1-01c01bfef26c"
      },
      "cell_type": "code",
      "source": [
        "# 2d Numpy Array\n",
        "\n",
        "length = [70,71,72,73,74]\n",
        "breadth = [1,2,3,4,5]\n",
        "\n",
        "arr_2d = np.array([length,breadth])\n",
        "print(arr_2d)\n",
        "\n",
        "arr_2d.shape #shape of 2d array. (Rows,columns)\n",
        "\n",
        "print(arr_2d[0][2]) #printing value at 0 row and 2 column\n",
        "print(arr_2d[1][3:])# value 1st row and 3rd to last column\n",
        "\n",
        "#these can also be done as \n",
        "print(arr_2d[0,2])\n",
        "print(arr_2d[1,3:])\n",
        "height = np.array([2,2,2,2,2])\n",
        "multipli = arr_2d * height\n",
        "print(multipli)\n",
        "\n",
        "print(np.mean(arr_2d[0][:])) #mean of length\n",
        "print(np.median(arr_2d[1,:])) #median of breadth\n",
        "\n",
        "#It's always a good idea to check both the median and the mean, to get a first hunch for the overall distribution of the entire dataset.\n",
        "#If mean is too high we can get a sense that the data is incorrect.\n",
        "# other functions are \n",
        "# np.std(parameter) standard deviation\n",
        "# np.corrcoef(parameter,parameter) correlation coefficient\n"
      ],
      "execution_count": 0,
      "outputs": [
        {
          "output_type": "stream",
          "text": [
            "[[70 71 72 73 74]\n",
            " [ 1  2  3  4  5]]\n",
            "72\n",
            "[4 5]\n",
            "72\n",
            "[4 5]\n",
            "[[140 142 144 146 148]\n",
            " [  2   4   6   8  10]]\n",
            "72.0\n",
            "3.0\n"
          ],
          "name": "stdout"
        }
      ]
    },
    {
      "metadata": {
        "id": "_oXgvFCwZ1FV",
        "colab_type": "code",
        "colab": {
          "base_uri": "https://localhost:8080/",
          "height": 102
        },
        "outputId": "52716328-77f0-42f4-f163-d0f44d5a3d75"
      },
      "cell_type": "code",
      "source": [
        "#Generate Data\n",
        "\n",
        "length = np.round(np.random.normal(72,1,5),2) #syntax of normal function: np.random.normal(distribution mean, distribution standard deviation, no. of samples)\n",
        "breadth = np.round(np.random.normal(3,1,5),2) #these 2 are examples of random distribution\n",
        "\n",
        "arr_2d = np.column_stack((length,breadth)) #syntax of column stack function: np.column_stack(single_argument).\n",
        "#In single argument we can give array seperated by comma and then combining them in one bracket\n",
        "arr_2d\n"
      ],
      "execution_count": 0,
      "outputs": [
        {
          "output_type": "execute_result",
          "data": {
            "text/plain": [
              "array([[73.42,  1.96],\n",
              "       [70.88,  2.97],\n",
              "       [74.03,  2.32],\n",
              "       [72.36,  4.32],\n",
              "       [71.26,  1.52]])"
            ]
          },
          "metadata": {
            "tags": []
          },
          "execution_count": 78
        }
      ]
    }
  ]
}